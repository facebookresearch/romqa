{
 "cells": [
  {
   "cell_type": "markdown",
   "id": "c8663ae4-253d-49b4-8ba9-311ec2730b99",
   "metadata": {},
   "source": [
    "# Linking\n",
    "\n",
    "This notebook contains the steps to recreate the RoMQA dataset, by combining the RoMQA database with annotations to form the dataset."
   ]
  },
  {
   "cell_type": "code",
   "execution_count": 1,
   "id": "b7535c98-e082-4496-a115-b4a686822f72",
   "metadata": {},
   "outputs": [],
   "source": [
    "import db_utils as D\n",
    "import bz2\n",
    "import ujson as json\n",
    "import sqlite3\n",
    "import os\n",
    "from tqdm.auto import tqdm"
   ]
  },
  {
   "cell_type": "code",
   "execution_count": 2,
   "id": "638cbafb-1acb-4eeb-8cb0-3712a5a26447",
   "metadata": {},
   "outputs": [],
   "source": [
    "if not os.path.isfile('annotations/data.db'):\n",
    "    !wget -nc https://s3.us-west-1.wasabisys.com/vzhong-public/RoMQA/data.db.bz2 -O annotations/data.db.bz2\n",
    "    !bunzip2 annotations/data.db.bz2"
   ]
  },
  {
   "cell_type": "code",
   "execution_count": 3,
   "id": "7c4765b8-8739-4335-93b3-a92806fc7a01",
   "metadata": {},
   "outputs": [
    {
     "name": "stdout",
     "output_type": "stream",
     "text": [
      "loading entities\n"
     ]
    }
   ],
   "source": [
    "fdb = 'annotations/data.db'\n",
    "db = sqlite3.connect(fdb, isolation_level=None)\n",
    "\n",
    "print('loading entities')\n",
    "entities = {}\n",
    "for uri, text, aliases, desc in db.execute('SELECT uri, text, aliases, desc FROM ents'):\n",
    "    entities[uri] = dict(uri=uri, text=text, aliases=json.loads(aliases), desc=desc)"
   ]
  },
  {
   "cell_type": "code",
   "execution_count": 4,
   "id": "5c9b01c4-44f4-4e21-8a09-391ec88da0ee",
   "metadata": {},
   "outputs": [
    {
     "name": "stdout",
     "output_type": "stream",
     "text": [
      "loading propositions\n"
     ]
    }
   ],
   "source": [
    "print('loading propositions')\n",
    "props = {}\n",
    "for uri, text, aliases, desc in db.execute('SELECT uri, text, aliases, desc FROM props'):\n",
    "    props[uri] = dict(uri=uri, text=text, aliases=json.loads(aliases), desc=desc)"
   ]
  },
  {
   "cell_type": "code",
   "execution_count": 5,
   "id": "cf5937f2-ac10-4df7-b809-36587dd7868a",
   "metadata": {},
   "outputs": [
    {
     "data": {
      "application/vnd.jupyter.widget-view+json": {
       "model_id": "3e03429df76146c9b938163c9179f02e",
       "version_major": 2,
       "version_minor": 0
      },
      "text/plain": [
       "  0%|          | 0/7068 [00:00<?, ?it/s]"
      ]
     },
     "metadata": {},
     "output_type": "display_data"
    }
   ],
   "source": [
    "import copy\n",
    "\n",
    "def load_split(fbzip):\n",
    "    with bz2.open(fbzip, 'rt') as f:\n",
    "        return json.load(f)\n",
    "\n",
    "def map_split(data, map_answer=True):\n",
    "    out = []\n",
    "    for ex in tqdm(data):\n",
    "        ex = copy.deepcopy(ex)\n",
    "        for c in ex['candidates']:\n",
    "            c.update(entities[c['uri']])\n",
    "        for c in ex['constraints']:\n",
    "            c['prop'] = props[c['prop']]\n",
    "            c['other_ent'] = entities[c['other_ent']]\n",
    "        if map_answer:\n",
    "            ex['complete_answer'] = [entities[a] for a in ex['complete_answer']]\n",
    "        out.append(ex)\n",
    "    return out\n",
    "        \n",
    "\n",
    "dev = load_split('annotations/dev.unaligned.json.bz2')\n",
    "dev_mapped = map_split(dev)\n",
    "with open('dev.json', 'wt') as f:\n",
    "    json.dump(dev_mapped, f)"
   ]
  },
  {
   "cell_type": "code",
   "execution_count": 6,
   "id": "883e02f3-3a8a-4e02-bb9e-207d3eb17279",
   "metadata": {},
   "outputs": [
    {
     "data": {
      "application/vnd.jupyter.widget-view+json": {
       "model_id": "4916b4e8c45e41e88a06f6ce16925283",
       "version_major": 2,
       "version_minor": 0
      },
      "text/plain": [
       "  0%|          | 0/10649 [00:00<?, ?it/s]"
      ]
     },
     "metadata": {},
     "output_type": "display_data"
    }
   ],
   "source": [
    "test = load_split('annotations/test.unaligned.noanswer.json.bz2')\n",
    "test_mapped = map_split(test, map_answer=False)\n",
    "with open('test.noanswer.json', 'wt') as f:\n",
    "    json.dump(test_mapped, f)"
   ]
  },
  {
   "cell_type": "code",
   "execution_count": 7,
   "id": "0ad6526a-a4e1-4282-a47f-d5f6dffe76f8",
   "metadata": {},
   "outputs": [
    {
     "data": {
      "application/vnd.jupyter.widget-view+json": {
       "model_id": "2b4d744b9ca84ab797e8b77b40dfa889",
       "version_major": 2,
       "version_minor": 0
      },
      "text/plain": [
       "  0%|          | 0/11260 [00:00<?, ?it/s]"
      ]
     },
     "metadata": {},
     "output_type": "display_data"
    }
   ],
   "source": [
    "train = load_split('annotations/train.unaligned.json.bz2')\n",
    "train_mapped = map_split(train)\n",
    "with open('train.json', 'wt') as f:\n",
    "    json.dump(train_mapped, f)"
   ]
  }
 ],
 "metadata": {
  "kernelspec": {
   "display_name": "Python 3",
   "language": "python",
   "name": "python3"
  },
  "language_info": {
   "codemirror_mode": {
    "name": "ipython",
    "version": 3
   },
   "file_extension": ".py",
   "mimetype": "text/x-python",
   "name": "python",
   "nbconvert_exporter": "python",
   "pygments_lexer": "ipython3",
   "version": "3.8.8"
  }
 },
 "nbformat": 4,
 "nbformat_minor": 5
}
